{
  "nbformat": 4,
  "nbformat_minor": 0,
  "metadata": {
    "colab": {
      "provenance": [],
      "authorship_tag": "ABX9TyNCaFIfWXEXEdXGwHBe/mGT",
      "include_colab_link": true
    },
    "kernelspec": {
      "name": "python3",
      "display_name": "Python 3"
    },
    "language_info": {
      "name": "python"
    }
  },
  "cells": [
    {
      "cell_type": "markdown",
      "metadata": {
        "id": "view-in-github",
        "colab_type": "text"
      },
      "source": [
        "<a href=\"https://colab.research.google.com/github/tiaraputriiiiii/Praktikum13/blob/main/Latihanpip.ipynb\" target=\"_parent\"><img src=\"https://colab.research.google.com/assets/colab-badge.svg\" alt=\"Open In Colab\"/></a>"
      ]
    },
    {
      "cell_type": "code",
      "execution_count": 2,
      "metadata": {
        "id": "rZ8q-xrBwk2t"
      },
      "outputs": [],
      "source": [
        "import requests\n",
        "from bs4 import BeautifulSoup\n",
        "import pandas as pd"
      ]
    },
    {
      "cell_type": "code",
      "source": [
        "URL = \"https://www.bukalapak.com/c/komputer/laptop?from=nav_header\"\n",
        "page = requests.get(URL)\n",
        "\n",
        "soup = BeautifulSoup(page.content, \"html.parser\")\n",
        "produk = soup.find_all(\"div\", \"bl-product-card__description\")\n",
        "\n",
        "data = []\n",
        "for item in produk:\n",
        "    nama = item.select(\".bl-product-card__description-name\")\n",
        "    price = item.select(\".bl-product-card__description-price p\")\n",
        "    data.append({\"nama\": nama[0].text.strip(), \"harga\": price[0].text.strip()})\n",
        "\n",
        "#print(data)\n",
        "df = pd.DataFrame(data)\n",
        "print(df)"
      ],
      "metadata": {
        "colab": {
          "base_uri": "https://localhost:8080/"
        },
        "id": "LhChNcLwwqB_",
        "outputId": "beea255f-6e4c-49e5-888e-ff67205dbfec"
      },
      "execution_count": 3,
      "outputs": [
        {
          "output_type": "stream",
          "name": "stdout",
          "text": [
            "                                                 nama         harga\n",
            "0   pc817 pc 817 optocoupler sharp asli ori origin...         Rp500\n",
            "1   OTG kabel usb micro kabel otg for samsung bb o...       Rp2.500\n",
            "2   Kabel power Komputer Pc ups rice cooker lcd ka...      Rp10.000\n",
            "3   KABEL POWER CPU PC KOMPUTER MONITOR KE LISTRIK...      Rp30.000\n",
            "4   Kabel Splitter Audio 3.5mm Male to 3.5mm HiFi ...       Rp7.500\n",
            "5                Laptop Hp 8440p Core i5 Sedang promo   Rp2.099.000\n",
            "6   Kabel MHL Converter Micro USB to HDMI Kabel fo...      Rp50.000\n",
            "7   Baterai Toshiba Satellite C600 C640 C666 L635 ...     Rp450.000\n",
            "8                    Kabel Aux Audio 2in1 For Speaker       Rp5.000\n",
            "9   Baterai Asus X450 X450C X450CA X450CP X450V X4...     Rp189.000\n",
            "10  Baterai Asus A46 A46C A46CA A46CB A46CM A46 K4...     Rp189.000\n",
            "11  Baterai Ori Acer v5 V5-431 V5-431G V5-471 V5-4...     Rp184.500\n",
            "12  Baterai HP G4 430 431 G42 DV6 DM4 1000 Compaq ...     Rp164.900\n",
            "13  Kabel Power VGA 6 pin female to 2 x 8 Pin male...      Rp25.000\n",
            "14                         Laptop Lenovo T410 Core i5   Rp1.949.000\n",
            "15               Laptop Dell 5510 Core i5 promo harga   Rp1.999.000\n",
            "16  Charger Adaptor Asus Transformer Book T100 T10...     Rp130.000\n",
            "17  Baterai Ori Lenovo G40 G400s G40-30 G40-45 G50...     Rp550.000\n",
            "18  BAUT SEKRUP MUR SCREW LAPTOP NOTEBOOK NETBOOK ...       Rp5.000\n",
            "19            APC Kabel c13 c14 2mtr 1mm cable ap9870      Rp75.000\n",
            "20  Dual psu atx 24 Pin Cable Kabel PC Power Mothe...      Rp50.000\n",
            "21  Laptop Dell 6510 Core i7 - Support Gaming - Bo...   Rp2.471.010\n",
            "22  kabel splitter 8 pin pcie to dual 6 2 gaming m...      Rp26.000\n",
            "23  Keyboard Laptop Lenovo Ideapad 110-14 110-14ib...      Rp60.000\n",
            "24  Adaptor Charger Original Asus X200 X200M X200C...      Rp74.250\n",
            "25  murah kabel power notebook adaptor laptop 3 lu...       Rp9.690\n",
            "26  Apple Macbook Air 2020 M1 Chip 13 inch 512GB G...  Rp14.280.000\n",
            "27  Baterai Acer ES1-411 ES1-431 E1-410 E1-410G E1...     Rp184.500\n",
            "28  Kabel Power Cord UPS APC Rack Server C13 to Sc...     Rp125.000\n",
            "29  Laptop Dell E6410 Core i5 - RAM 4GB -HDD 320GB...   Rp1.929.510\n"
          ]
        }
      ]
    }
  ]
}